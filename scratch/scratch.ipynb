{
 "cells": [
  {
   "cell_type": "code",
   "execution_count": 1,
   "id": "5e686b1a",
   "metadata": {},
   "outputs": [],
   "source": [
    "import pandas as pd\n",
    "import numpy as np"
   ]
  },
  {
   "cell_type": "markdown",
   "id": "2f12e1e4",
   "metadata": {},
   "source": [
    "# Question #1\n",
    "\n",
    "### Goal:\n",
    "return the proportion of children in the dataset who had a mother with the education levels equal to:\n",
    "- less than high school\n",
    "- high school\n",
    "- more than high school but not a college graduate\n",
    "- college degree"
   ]
  },
  {
   "cell_type": "code",
   "execution_count": 2,
   "id": "a2305084",
   "metadata": {},
   "outputs": [],
   "source": [
    "df = pd.read_csv('NISPUF17.csv')"
   ]
  },
  {
   "cell_type": "code",
   "execution_count": 3,
   "id": "c8056fad",
   "metadata": {},
   "outputs": [
    {
     "data": {
      "text/plain": [
       "array([4, 3, 1, 2], dtype=int64)"
      ]
     },
     "execution_count": 3,
     "metadata": {},
     "output_type": "execute_result"
    }
   ],
   "source": [
    "df['EDUC1'].unique()"
   ]
  },
  {
   "cell_type": "markdown",
   "id": "d2b7b5f7",
   "metadata": {},
   "source": [
    "CATEGORIES:\n",
    "- **4** = College\n",
    "- **3** = More than high school but not college\n",
    "- **2** = High School\n",
    "- **1** = Less than High School"
   ]
  },
  {
   "cell_type": "code",
   "execution_count": 4,
   "id": "9fdc2fa5",
   "metadata": {
    "scrolled": true
   },
   "outputs": [
    {
     "data": {
      "text/plain": [
       "4    13656\n",
       "3     6999\n",
       "2     4906\n",
       "1     2904\n",
       "Name: EDUC1, dtype: int64"
      ]
     },
     "execution_count": 4,
     "metadata": {},
     "output_type": "execute_result"
    }
   ],
   "source": [
    "df['EDUC1'].value_counts()"
   ]
  },
  {
   "cell_type": "markdown",
   "id": "854d3973",
   "metadata": {},
   "source": [
    "To get the proportion of children in the dataset who had a mother with the education levels equal to the 4 categories\n",
    "we need to divide the sum of these values to the size of `'EDUC1'`"
   ]
  },
  {
   "cell_type": "code",
   "execution_count": 5,
   "id": "fa66c303",
   "metadata": {},
   "outputs": [],
   "source": [
    "def proportion_of_educ():\n",
    "    # calculate proportion 'sum_values / size'\n",
    "    prop = df['EDUC1'].value_counts() / df['EDUC1'].shape[0]\n",
    "    # educ labels, fixed arrangement\n",
    "    educ = ['College', 'more than high school but not college', 'high school', 'less than high school']\n",
    "    # zip it\n",
    "    z_prop_educ = zip(educ, prop)\n",
    "    # convert to dictionary and return it\n",
    "    return dict(z_prop_educ)"
   ]
  },
  {
   "cell_type": "code",
   "execution_count": 6,
   "id": "691aae7b",
   "metadata": {},
   "outputs": [
    {
     "data": {
      "text/plain": [
       "{'College': 0.47974705779026877,\n",
       " 'more than high school but not college': 0.24588090637625154,\n",
       " 'high school': 0.172352011241876,\n",
       " 'less than high school': 0.10202002459160373}"
      ]
     },
     "execution_count": 6,
     "metadata": {},
     "output_type": "execute_result"
    }
   ],
   "source": [
    "proportion_of_educ()"
   ]
  },
  {
   "cell_type": "markdown",
   "id": "5c0a42c4",
   "metadata": {},
   "source": [
    "# Question #2\n",
    "### Goal:\n",
    "Return a tuple of the average number of influenza vaccines for those children we know received breastmilk as a child and those who know did not."
   ]
  },
  {
   "cell_type": "code",
   "execution_count": 7,
   "id": "9d676135",
   "metadata": {},
   "outputs": [],
   "source": [
    "df = pd.read_csv('NISPUF17.csv')"
   ]
  },
  {
   "cell_type": "code",
   "execution_count": 8,
   "id": "12d3cfa2",
   "metadata": {},
   "outputs": [
    {
     "data": {
      "text/plain": [
       "0    1\n",
       "1    2\n",
       "2    2\n",
       "3    2\n",
       "4    1\n",
       "Name: CBF_01, dtype: int64"
      ]
     },
     "execution_count": 8,
     "metadata": {},
     "output_type": "execute_result"
    }
   ],
   "source": [
    "df['CBF_01'].head()"
   ]
  },
  {
   "cell_type": "markdown",
   "id": "4d073856",
   "metadata": {},
   "source": [
    "Since we only need to return a tuple of the average number of influenza vaccines for those children we know **received breastmilk** as a child and those who know **did not**.\n",
    "We only need to get the value:\n",
    "\n",
    "- **1** - Yes\n",
    "- **2** - No\n",
    "\n",
    "for `'CBF_01'`."
   ]
  },
  {
   "cell_type": "code",
   "execution_count": 9,
   "id": "4a61212e",
   "metadata": {},
   "outputs": [
    {
     "name": "stdout",
     "output_type": "stream",
     "text": [
      "These values are the number of influenza doses\n"
     ]
    },
    {
     "data": {
      "text/plain": [
       "array([nan,  3.,  0.,  2.,  1.,  4.,  5.,  6.])"
      ]
     },
     "execution_count": 9,
     "metadata": {},
     "output_type": "execute_result"
    }
   ],
   "source": [
    "print(\"These values are the number of influenza doses\")\n",
    "df['P_NUMFLU'].unique()"
   ]
  },
  {
   "cell_type": "code",
   "execution_count": 10,
   "id": "3e56c1ca",
   "metadata": {},
   "outputs": [],
   "source": [
    "def average_influenza_doses():\n",
    "    # get the values of children who recived breastmilk\n",
    "    yes_mlk = df[df['CBF_01'] == 1]\n",
    "    # get the values of children who did not\n",
    "    no_mlk = df[df['CBF_01'] == 2]\n",
    "    \n",
    "    # return the mean of children who received breastmilk with influenza doses\n",
    "    # and the mean of children who did not with influenza doses\n",
    "    return yes_mlk['P_NUMFLU'].mean(), no_mlk['P_NUMFLU'].mean()"
   ]
  },
  {
   "cell_type": "code",
   "execution_count": 11,
   "id": "80314aff",
   "metadata": {},
   "outputs": [
    {
     "data": {
      "text/plain": [
       "(1.8799187420058687, 1.5963945918878317)"
      ]
     },
     "execution_count": 11,
     "metadata": {},
     "output_type": "execute_result"
    }
   ],
   "source": [
    "average_influenza_doses()"
   ]
  },
  {
   "cell_type": "markdown",
   "id": "4e212926",
   "metadata": {},
   "source": [
    "# Question #3\n",
    "### Goal:\n",
    "See if there is any evidence of a link between vaccine effectiveness and sex of the child. Calculate the ratio of the number of children who contracted chickenpox but were vaccinated against it (at least one varicella dose) versus those who were vaccinated but did not contract chicken pox. Return results by sex."
   ]
  },
  {
   "cell_type": "code",
   "execution_count": 12,
   "id": "7ce2f3e1",
   "metadata": {},
   "outputs": [],
   "source": [
    "df = pd.read_csv('NISPUF17.csv')"
   ]
  },
  {
   "cell_type": "code",
   "execution_count": 13,
   "id": "6e24f000",
   "metadata": {},
   "outputs": [
    {
     "data": {
      "text/plain": [
       "array([1, 2], dtype=int64)"
      ]
     },
     "execution_count": 13,
     "metadata": {},
     "output_type": "execute_result"
    }
   ],
   "source": [
    "# 'SEX', sex of the child\n",
    "df['SEX'].unique()"
   ]
  },
  {
   "cell_type": "markdown",
   "id": "f2f43b7c",
   "metadata": {},
   "source": [
    "- **1** - MALE\n",
    "- **2** - FEMALE"
   ]
  },
  {
   "cell_type": "code",
   "execution_count": 14,
   "id": "2256d15f",
   "metadata": {},
   "outputs": [
    {
     "data": {
      "text/plain": [
       "0    2\n",
       "1    2\n",
       "2    2\n",
       "3    2\n",
       "4    2\n",
       "Name: HAD_CPOX, dtype: int64"
      ]
     },
     "execution_count": 14,
     "metadata": {},
     "output_type": "execute_result"
    }
   ],
   "source": [
    "# 'HAD_CPOX', had chickenpox\n",
    "df['HAD_CPOX'].head()"
   ]
  },
  {
   "cell_type": "markdown",
   "id": "54f27124",
   "metadata": {},
   "source": [
    "We only need to get\n",
    "- **1** - who contracted chickenpox\n",
    "- **2** - did not contract chicken pox"
   ]
  },
  {
   "cell_type": "code",
   "execution_count": 15,
   "id": "0f7ff433",
   "metadata": {},
   "outputs": [
    {
     "data": {
      "text/plain": [
       "array([nan,  1.,  0.,  2.,  3.])"
      ]
     },
     "execution_count": 15,
     "metadata": {},
     "output_type": "execute_result"
    }
   ],
   "source": [
    "# 'P_NUMVRC', total number of varciella doses\n",
    "df['P_NUMVRC'].unique()"
   ]
  },
  {
   "cell_type": "code",
   "execution_count": 16,
   "id": "c980b393",
   "metadata": {},
   "outputs": [],
   "source": [
    "def chickenpox_by_sex():\n",
    "    # had chickenpox, vaccinated\n",
    "    cbs_myv = df[ (df['SEX'] == 1) & (df['HAD_CPOX'] == 1) & (df['P_NUMVRC'] >= 1) ]\n",
    "    cbs_fyv = df[ (df['SEX'] == 2) & (df['HAD_CPOX'] == 1) & (df['P_NUMVRC'] >= 1) ]\n",
    "    # did not contract chicken pox, not vaccinated\n",
    "    cbs_mnv = df[ (df['SEX'] == 1) & (df['HAD_CPOX'] == 2) & (df['P_NUMVRC'] >= 1) ]\n",
    "    cbs_fnv = df[ (df['SEX'] == 2) & (df['HAD_CPOX'] == 2) & (df['P_NUMVRC'] >= 1) ]\n",
    "    \n",
    "    # get the ratio\n",
    "    cbs_m = cbs_myv.shape[0] / cbs_mnv.shape[0]\n",
    "    cbs_f = cbs_fyv.shape[0] / cbs_fnv.shape[0]\n",
    "    \n",
    "    # zip it\n",
    "    z_mf = zip(['male', 'female'], [cbs_m, cbs_f])\n",
    "    \n",
    "    # convert to dictionary and return it\n",
    "    return dict(z_mf)"
   ]
  },
  {
   "cell_type": "code",
   "execution_count": 17,
   "id": "8a3884e3",
   "metadata": {},
   "outputs": [
    {
     "data": {
      "text/plain": [
       "{'male': 0.009675583380762664, 'female': 0.0077918259335489565}"
      ]
     },
     "execution_count": 17,
     "metadata": {},
     "output_type": "execute_result"
    }
   ],
   "source": [
    "chickenpox_by_sex()"
   ]
  },
  {
   "cell_type": "markdown",
   "id": "f93dac1a",
   "metadata": {},
   "source": [
    "# Question 4\n",
    "### Goal:\n",
    "to see if there is a correlation between having had the chicken pox and the number of chickenpox vaccine doses given (varicella)."
   ]
  },
  {
   "cell_type": "code",
   "execution_count": 18,
   "id": "0c3340dd",
   "metadata": {},
   "outputs": [],
   "source": [
    "import scipy.stats as stats"
   ]
  },
  {
   "cell_type": "code",
   "execution_count": 19,
   "id": "bc882478",
   "metadata": {},
   "outputs": [],
   "source": [
    "df = pd.read_csv('NISPUF17.csv')"
   ]
  },
  {
   "cell_type": "markdown",
   "id": "77f701a3",
   "metadata": {},
   "source": [
    "- `had_chickenpox_column` - is either 1 (for yes) or 2 (for no)\n",
    "- `num_chickenpox_vaccine_column` - is the number of doses a child has been given of the varicella vaccine."
   ]
  },
  {
   "cell_type": "code",
   "execution_count": 20,
   "id": "ceb51863",
   "metadata": {},
   "outputs": [],
   "source": [
    "def corr_chickenpox():\n",
    "    # get 'HAD_CPOX' value with 1, 2 and ignore NaN of 'P_NUMVRC'\n",
    "    hcc_ncvc = df[(df['HAD_CPOX'] < 3) & (df['P_NUMVRC'].notna())]\n",
    "    # update 'hcc_ncvc' with the only columns we need\n",
    "    hcc_ncvc = hcc_ncvc.loc[:, ['HAD_CPOX', 'P_NUMVRC']]\n",
    "    \n",
    "    dfs = pd.DataFrame({\"had_chickenpox_column\": hcc_ncvc['HAD_CPOX'],\n",
    "                     \"num_chickenpox_vaccine_column\": hcc_ncvc['P_NUMVRC']})\n",
    "    \n",
    "    # calculate correlation coefficient and the p-value for testing non-correlation.\n",
    "    corr, pval = stats.pearsonr( dfs[\"had_chickenpox_column\"], dfs[\"num_chickenpox_vaccine_column\"] )\n",
    "    \n",
    "    return corr"
   ]
  },
  {
   "cell_type": "code",
   "execution_count": 21,
   "id": "ab62e4af",
   "metadata": {},
   "outputs": [
    {
     "data": {
      "text/plain": [
       "0.07044873460148"
      ]
     },
     "execution_count": 21,
     "metadata": {},
     "output_type": "execute_result"
    }
   ],
   "source": [
    "corr_chickenpox()"
   ]
  }
 ],
 "metadata": {
  "kernelspec": {
   "display_name": "Python 3",
   "language": "python",
   "name": "python3"
  },
  "language_info": {
   "codemirror_mode": {
    "name": "ipython",
    "version": 3
   },
   "file_extension": ".py",
   "mimetype": "text/x-python",
   "name": "python",
   "nbconvert_exporter": "python",
   "pygments_lexer": "ipython3",
   "version": "3.8.8"
  }
 },
 "nbformat": 4,
 "nbformat_minor": 5
}
